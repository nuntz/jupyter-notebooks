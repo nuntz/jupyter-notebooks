{
 "cells": [
  {
   "cell_type": "markdown",
   "metadata": {},
   "source": [
    "# Rending a Chord Diagram in a Jupyter Notebook using D3.js\n",
    "\n",
    "Based on:\n",
    "\n",
    "https://bl.ocks.org/mbostock/4062006#index.html\n",
    "\n",
    "and\n",
    "\n",
    "https://github.com/cmoscardi/embedded_d3_example"
   ]
  },
  {
   "cell_type": "code",
   "execution_count": 11,
   "metadata": {
    "collapsed": false
   },
   "outputs": [
    {
     "data": {
      "text/html": [
       "\n",
       "<style>\n",
       ".chord path {\n",
       "  fill-opacity: .67;\n",
       "  stroke: #000;\n",
       "  stroke-width: .5px;\n",
       "}</style>\n"
      ],
      "text/plain": [
       "<IPython.core.display.HTML object>"
      ]
     },
     "execution_count": 11,
     "metadata": {},
     "output_type": "execute_result"
    }
   ],
   "source": [
    "import pandas as pd\n",
    "import numpy as np\n",
    "import json\n",
    "from IPython.display import Javascript\n",
    "from IPython.core.display import HTML\n",
    "HTML(\"\"\"\n",
    "<style>\n",
    ".chord path {\n",
    "  fill-opacity: .67;\n",
    "  stroke: #000;\n",
    "  stroke-width: .5px;\n",
    "}</style>\n",
    "\"\"\")"
   ]
  },
  {
   "cell_type": "code",
   "execution_count": 12,
   "metadata": {
    "collapsed": false
   },
   "outputs": [
    {
     "data": {
      "application/javascript": [
       "require.config({\n",
       "    paths: {\n",
       "        d3: '//cdnjs.cloudflare.com/ajax/libs/d3/3.4.8/d3.min'\n",
       "    }\n",
       "});"
      ],
      "text/plain": [
       "<IPython.core.display.Javascript object>"
      ]
     },
     "metadata": {},
     "output_type": "display_data"
    }
   ],
   "source": [
    "%%javascript\n",
    "require.config({\n",
    "    paths: {\n",
    "        d3: '//cdnjs.cloudflare.com/ajax/libs/d3/3.4.8/d3.min'\n",
    "    }\n",
    "});"
   ]
  },
  {
   "cell_type": "code",
   "execution_count": 21,
   "metadata": {
    "collapsed": false
   },
   "outputs": [
    {
     "data": {
      "text/html": [
       "<div>\n",
       "<table border=\"1\" class=\"dataframe\">\n",
       "  <thead>\n",
       "    <tr style=\"text-align: right;\">\n",
       "      <th></th>\n",
       "      <th>0</th>\n",
       "      <th>1</th>\n",
       "      <th>2</th>\n",
       "      <th>3</th>\n",
       "    </tr>\n",
       "  </thead>\n",
       "  <tbody>\n",
       "    <tr>\n",
       "      <th>0</th>\n",
       "      <td>10</td>\n",
       "      <td>1</td>\n",
       "      <td>2</td>\n",
       "      <td>3</td>\n",
       "    </tr>\n",
       "    <tr>\n",
       "      <th>1</th>\n",
       "      <td>1</td>\n",
       "      <td>10</td>\n",
       "      <td>1</td>\n",
       "      <td>1</td>\n",
       "    </tr>\n",
       "    <tr>\n",
       "      <th>2</th>\n",
       "      <td>2</td>\n",
       "      <td>1</td>\n",
       "      <td>10</td>\n",
       "      <td>1</td>\n",
       "    </tr>\n",
       "    <tr>\n",
       "      <th>3</th>\n",
       "      <td>3</td>\n",
       "      <td>1</td>\n",
       "      <td>1</td>\n",
       "      <td>10</td>\n",
       "    </tr>\n",
       "  </tbody>\n",
       "</table>\n",
       "</div>"
      ],
      "text/plain": [
       "    0   1   2   3\n",
       "0  10   1   2   3\n",
       "1   1  10   1   1\n",
       "2   2   1  10   1\n",
       "3   3   1   1  10"
      ]
     },
     "execution_count": 21,
     "metadata": {},
     "output_type": "execute_result"
    }
   ],
   "source": [
    "matrix = pd.DataFrame( [  [ 10,  1, 2, 3],\n",
    "                          [ 1, 10, 1, 1],\n",
    "                          [ 2, 1, 10, 1],\n",
    "                          [ 3,   1,  1, 10]])\n",
    "matrix"
   ]
  },
  {
   "cell_type": "code",
   "execution_count": 22,
   "metadata": {
    "collapsed": false
   },
   "outputs": [
    {
     "data": {
      "application/javascript": [
       "\n",
       "           window.matrix=[[10, 1, 2, 3], [1, 10, 1, 1], [2, 1, 10, 1], [3, 1, 1, 10]];\n",
       "           "
      ],
      "text/plain": [
       "<IPython.core.display.Javascript object>"
      ]
     },
     "execution_count": 22,
     "metadata": {},
     "output_type": "execute_result"
    }
   ],
   "source": [
    "jsmatrix = json.dumps(matrix.as_matrix().tolist())\n",
    "Javascript(\"\"\"\n",
    "           window.matrix={};\n",
    "           \"\"\".format(jsmatrix))"
   ]
  },
  {
   "cell_type": "code",
   "execution_count": 23,
   "metadata": {
    "collapsed": false
   },
   "outputs": [
    {
     "data": {
      "application/javascript": [
       "require(['d3'], function(d3) {\n",
       "            //a weird idempotency thing\n",
       "            $(\"#chart1\").remove();\n",
       "            //create canvas\n",
       "            element.append(\"<div id='chart1'></div>\");\n",
       "            $(\"#chart1\").width(\"960px\");\n",
       "            $(\"#chart1\").height(\"600px\");\n",
       "\n",
       "            // From http://mkweb.bcgsc.ca/circos/guide/tables/\n",
       "            // var matrix = window.matrix;\n",
       "            // var matrix = [\n",
       "            //     [10, 1, 2, 3],\n",
       "            //     [1, 10, 1, 1],\n",
       "            //     [2, 1, 10, 1],\n",
       "            //     [3, 1, 1, 10]\n",
       "            // ];\n",
       "\n",
       "            var chord = d3.layout.chord()\n",
       "                .padding(.05)\n",
       "                .sortSubgroups(d3.descending)\n",
       "                .matrix(matrix);\n",
       "\n",
       "            var width = 500,\n",
       "                height = 500,\n",
       "                innerRadius = Math.min(width, height) * .41,\n",
       "                outerRadius = innerRadius * 1.1;\n",
       "\n",
       "            var fill = d3.scale.ordinal()\n",
       "                .domain(d3.range(4))\n",
       "                .range([\"#000000\", \"#FFDD89\", \"#957244\", \"#F26223\"]);\n",
       "\n",
       "            var svg = d3.select(\"#chart1\").append(\"svg\")\n",
       "                .attr(\"width\", width)\n",
       "                .attr(\"height\", height)\n",
       "                .append(\"g\")\n",
       "                .attr(\"transform\", \"translate(\" + width / 2 + \",\" + height / 2 + \")\");\n",
       "\n",
       "            svg.append(\"g\").selectAll(\"path\")\n",
       "                .data(chord.groups)\n",
       "                .enter().append(\"path\")\n",
       "                .style(\"fill\", function(d) {\n",
       "                    return fill(d.index);\n",
       "                })\n",
       "                .style(\"stroke\", function(d) {\n",
       "                    return fill(d.index);\n",
       "                })\n",
       "                .attr(\"d\", d3.svg.arc().innerRadius(innerRadius).outerRadius(outerRadius))\n",
       "                .on(\"mouseover\", fade(.1))\n",
       "                .on(\"mouseout\", fade(1));\n",
       "\n",
       "            var ticks = svg.append(\"g\").selectAll(\"g\")\n",
       "                .data(chord.groups)\n",
       "                .enter().append(\"g\").selectAll(\"g\")\n",
       "                .data(groupTicks)\n",
       "                .enter().append(\"g\")\n",
       "                .attr(\"transform\", function(d) {\n",
       "                    return \"rotate(\" + (d.angle * 180 / Math.PI - 90) + \")\" + \"translate(\" + outerRadius + \",0)\";\n",
       "                });\n",
       "\n",
       "            ticks.append(\"line\")\n",
       "                .attr(\"x1\", 1)\n",
       "                .attr(\"y1\", 0)\n",
       "                .attr(\"x2\", 5)\n",
       "                .attr(\"y2\", 0)\n",
       "                .style(\"stroke\", \"#000\");\n",
       "\n",
       "            ticks.append(\"text\")\n",
       "                .attr(\"x\", 8)\n",
       "                .attr(\"dy\", \".35em\")\n",
       "                .attr(\"transform\", function(d) {\n",
       "                    return d.angle > Math.PI ? \"rotate(180)translate(-16)\" : null;\n",
       "                })\n",
       "                .style(\"text-anchor\", function(d) {\n",
       "                    return d.angle > Math.PI ? \"end\" : null;\n",
       "                })\n",
       "                .text(function(d) {\n",
       "                    return d.label;\n",
       "                });\n",
       "\n",
       "            svg.append(\"g\")\n",
       "                .attr(\"class\", \"chord\")\n",
       "                .selectAll(\"path\")\n",
       "                .data(chord.chords)\n",
       "                .enter().append(\"path\")\n",
       "                .attr(\"d\", d3.svg.chord().radius(innerRadius))\n",
       "                .style(\"fill\", function(d) {\n",
       "                    return fill(d.target.index);\n",
       "                })\n",
       "                .style(\"opacity\", 1);\n",
       "\n",
       "            // Returns an array of tick angles and labels, given a group.\n",
       "            function groupTicks(d) {\n",
       "                var k = (d.endAngle - d.startAngle) / d.value;\n",
       "                return d3.range(0, d.value, 1).map(function(v, i) {\n",
       "                    return {\n",
       "                        angle: v * k + d.startAngle,\n",
       "                        label: i % 5 ? null : v\n",
       "                    };\n",
       "                });\n",
       "            }\n",
       "\n",
       "            // Returns an event handler for fading a given chord group.\n",
       "            function fade(opacity) {\n",
       "                return function(g, i) {\n",
       "                    svg.selectAll(\".chord path\")\n",
       "                        .filter(function(d) {\n",
       "                            return d.source.index != i && d.target.index != i;\n",
       "                        })\n",
       "                        .transition()\n",
       "                        .style(\"opacity\", opacity);\n",
       "                };\n",
       "            }\n",
       "});"
      ],
      "text/plain": [
       "<IPython.core.display.Javascript object>"
      ]
     },
     "metadata": {},
     "output_type": "display_data"
    }
   ],
   "source": [
    "%%javascript\n",
    "require(['d3'], function(d3) {\n",
    "            //a weird idempotency thing\n",
    "            $(\"#chart1\").remove();\n",
    "            //create canvas\n",
    "            element.append(\"<div id='chart1'></div>\");\n",
    "            $(\"#chart1\").width(\"960px\");\n",
    "            $(\"#chart1\").height(\"600px\");\n",
    "\n",
    "            var chord = d3.layout.chord()\n",
    "                .padding(.05)\n",
    "                .sortSubgroups(d3.descending)\n",
    "                .matrix(matrix);\n",
    "\n",
    "            var width = 500,\n",
    "                height = 500,\n",
    "                innerRadius = Math.min(width, height) * .41,\n",
    "                outerRadius = innerRadius * 1.1;\n",
    "\n",
    "            var fill = d3.scale.ordinal()\n",
    "                .domain(d3.range(4))\n",
    "                .range([\"#000000\", \"#FFDD89\", \"#957244\", \"#F26223\"]);\n",
    "\n",
    "            var svg = d3.select(\"#chart1\").append(\"svg\")\n",
    "                .attr(\"width\", width)\n",
    "                .attr(\"height\", height)\n",
    "                .append(\"g\")\n",
    "                .attr(\"transform\", \"translate(\" + width / 2 + \",\" + height / 2 + \")\");\n",
    "\n",
    "            svg.append(\"g\").selectAll(\"path\")\n",
    "                .data(chord.groups)\n",
    "                .enter().append(\"path\")\n",
    "                .style(\"fill\", function(d) {\n",
    "                    return fill(d.index);\n",
    "                })\n",
    "                .style(\"stroke\", function(d) {\n",
    "                    return fill(d.index);\n",
    "                })\n",
    "                .attr(\"d\", d3.svg.arc().innerRadius(innerRadius).outerRadius(outerRadius))\n",
    "                .on(\"mouseover\", fade(.1))\n",
    "                .on(\"mouseout\", fade(1));\n",
    "\n",
    "            var ticks = svg.append(\"g\").selectAll(\"g\")\n",
    "                .data(chord.groups)\n",
    "                .enter().append(\"g\").selectAll(\"g\")\n",
    "                .data(groupTicks)\n",
    "                .enter().append(\"g\")\n",
    "                .attr(\"transform\", function(d) {\n",
    "                    return \"rotate(\" + (d.angle * 180 / Math.PI - 90) + \")\" + \"translate(\" + outerRadius + \",0)\";\n",
    "                });\n",
    "\n",
    "            ticks.append(\"line\")\n",
    "                .attr(\"x1\", 1)\n",
    "                .attr(\"y1\", 0)\n",
    "                .attr(\"x2\", 5)\n",
    "                .attr(\"y2\", 0)\n",
    "                .style(\"stroke\", \"#000\");\n",
    "\n",
    "            ticks.append(\"text\")\n",
    "                .attr(\"x\", 8)\n",
    "                .attr(\"dy\", \".35em\")\n",
    "                .attr(\"transform\", function(d) {\n",
    "                    return d.angle > Math.PI ? \"rotate(180)translate(-16)\" : null;\n",
    "                })\n",
    "                .style(\"text-anchor\", function(d) {\n",
    "                    return d.angle > Math.PI ? \"end\" : null;\n",
    "                })\n",
    "                .text(function(d) {\n",
    "                    return d.label;\n",
    "                });\n",
    "\n",
    "            svg.append(\"g\")\n",
    "                .attr(\"class\", \"chord\")\n",
    "                .selectAll(\"path\")\n",
    "                .data(chord.chords)\n",
    "                .enter().append(\"path\")\n",
    "                .attr(\"d\", d3.svg.chord().radius(innerRadius))\n",
    "                .style(\"fill\", function(d) {\n",
    "                    return fill(d.target.index);\n",
    "                })\n",
    "                .style(\"opacity\", 1);\n",
    "\n",
    "            // Returns an array of tick angles and labels, given a group.\n",
    "            function groupTicks(d) {\n",
    "                var k = (d.endAngle - d.startAngle) / d.value;\n",
    "                return d3.range(0, d.value, 1).map(function(v, i) {\n",
    "                    return {\n",
    "                        angle: v * k + d.startAngle,\n",
    "                        label: i % 5 ? null : v\n",
    "                    };\n",
    "                });\n",
    "            }\n",
    "\n",
    "            // Returns an event handler for fading a given chord group.\n",
    "            function fade(opacity) {\n",
    "                return function(g, i) {\n",
    "                    svg.selectAll(\".chord path\")\n",
    "                        .filter(function(d) {\n",
    "                            return d.source.index != i && d.target.index != i;\n",
    "                        })\n",
    "                        .transition()\n",
    "                        .style(\"opacity\", opacity);\n",
    "                };\n",
    "            }\n",
    "});"
   ]
  }
 ],
 "metadata": {
  "kernelspec": {
   "display_name": "Python 2",
   "language": "python",
   "name": "python2"
  },
  "language_info": {
   "codemirror_mode": {
    "name": "ipython",
    "version": 2
   },
   "file_extension": ".py",
   "mimetype": "text/x-python",
   "name": "python",
   "nbconvert_exporter": "python",
   "pygments_lexer": "ipython2",
   "version": "2.7.11"
  }
 },
 "nbformat": 4,
 "nbformat_minor": 0
}
